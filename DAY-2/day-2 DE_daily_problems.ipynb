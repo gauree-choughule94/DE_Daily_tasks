{
 "cells": [
  {
   "cell_type": "code",
   "execution_count": 0,
   "metadata": {
    "application/vnd.databricks.v1+cell": {
     "cellMetadata": {
      "byteLimit": 2048000,
      "rowLimit": 10000
     },
     "inputWidgets": {},
     "nuid": "78022d66-4672-4068-9ef6-91d11363a057",
     "showTitle": false,
     "tableResultSettingsMap": {},
     "title": ""
    }
   },
   "outputs": [
    {
     "output_type": "stream",
     "name": "stdout",
     "output_type": "stream",
     "text": [
      "+-----------+-------+-----+----+\n|   category|product|sales|rank|\n+-----------+-------+-----+----+\n|   Clothing| Jacket|  800|   1|\n|   Clothing|  Jeans|  600|   2|\n|   Clothing|  Shirt|  400|   3|\n|Electronics| Laptop| 1200|   1|\n|Electronics|  Phone|  900|   2|\n|Electronics| Tablet|  700|   3|\n+-----------+-------+-----+----+\n\n+-----------+-------+-----+----+\n|   category|product|sales|rank|\n+-----------+-------+-----+----+\n|   Clothing| Jacket|  800|   1|\n|   Clothing|  Jeans|  600|   2|\n|Electronics| Laptop| 1200|   1|\n|Electronics|  Phone|  900|   2|\n+-----------+-------+-----+----+\n\n+-----------+-------+-----+\n|   category|product|sales|\n+-----------+-------+-----+\n|   Clothing| Jacket|  800|\n|   Clothing|  Jeans|  600|\n|Electronics| Laptop| 1200|\n|Electronics|  Phone|  900|\n+-----------+-------+-----+\n\n"
     ]
    }
   ],
   "source": [
    "data = [\n",
    "    (\"Electronics\", \"Laptop\", 1200),\n",
    "    (\"Electronics\", \"Phone\", 900),\n",
    "    (\"Electronics\", \"Tablet\", 700),\n",
    "    (\"Clothing\", \"Shirt\", 400),\n",
    "    (\"Clothing\", \"Jeans\", 600),\n",
    "    (\"Clothing\", \"Jacket\", 800),\n",
    "]\n",
    "\n",
    "schema = [\"category\", \"product\", \"sales\"]\n",
    "\n",
    "df1 = spark.createDataFrame(data, schema)\n",
    "# df1.show()\n",
    "\n",
    "# wind1 = Window.groupBy('category').orderBy(desc('sales'))  #AttributeError: type object 'Window' has no attribute 'groupBy'\n",
    "wind1 = Window.partitionBy('category').orderBy(desc('sales'))\n",
    "\n",
    "ranked_df = df1.withColumn(\"rank\", rank().over(wind1))\n",
    "ranked_df.show()\n",
    "\n",
    "top_2 = ranked_df.filter(col(\"rank\") <= 2)\n",
    "\n",
    "top_2.show()\n",
    "top_2.drop('rank').show()"
   ]
  },
  {
   "cell_type": "code",
   "execution_count": 0,
   "metadata": {
    "application/vnd.databricks.v1+cell": {
     "cellMetadata": {
      "byteLimit": 2048000,
      "rowLimit": 10000
     },
     "inputWidgets": {},
     "nuid": "b103c5b6-da4d-4ce9-baa2-95a362029e15",
     "showTitle": false,
     "tableResultSettingsMap": {},
     "title": ""
    }
   },
   "outputs": [
    {
     "output_type": "stream",
     "name": "stdout",
     "output_type": "stream",
     "text": [
      "+-------+----------+------+---------------+\n|user_id|  txn_date|amount|running_balance|\n+-------+----------+------+---------------+\n|      1|2025-01-01|   500|            500|\n|      1|2025-01-03|  -200|            300|\n|      1|2025-01-05|   300|            600|\n|      2|2025-01-02|  1000|           1000|\n|      2|2025-01-04|  -400|            600|\n+-------+----------+------+---------------+\n\n"
     ]
    }
   ],
   "source": [
    "from pyspark.sql.window import Window\n",
    "from pyspark.sql.functions import *\n",
    "\n",
    "data = [\n",
    "    (1, \"2025-01-01\", 500),\n",
    "    (1, \"2025-01-03\", -200),\n",
    "    (1, \"2025-01-05\", 300),\n",
    "    (2, \"2025-01-02\", 1000),\n",
    "    (2, \"2025-01-04\", -400),\n",
    "]\n",
    "\n",
    "columns = [\"user_id\", \"txn_date\", \"amount\"]\n",
    "df = spark.createDataFrame(data, columns)\n",
    "# df.show()\n",
    "\n",
    "df = df.withColumn(\"txn_date\", to_date(\"txn_date\"))\n",
    "\n",
    "window1 = Window.partitionBy(\"user_id\").orderBy(\"txn_date\") \\\n",
    "                   .rowsBetween(Window.unboundedPreceding, Window.currentRow)\n",
    "# all rows from the first row up to the current row\n",
    "result = df.withColumn(\"running_balance\", sum(col(\"amount\")).over(window1))\n",
    "result.show()"
   ]
  },
  {
   "cell_type": "code",
   "execution_count": 0,
   "metadata": {
    "application/vnd.databricks.v1+cell": {
     "cellMetadata": {
      "byteLimit": 2048000,
      "rowLimit": 10000
     },
     "inputWidgets": {},
     "nuid": "43509bf3-06c9-495f-8dc8-45948cc60ce1",
     "showTitle": false,
     "tableResultSettingsMap": {},
     "title": ""
    }
   },
   "outputs": [],
   "source": [
    "df.createOrReplaceTempView(\"transactions\")"
   ]
  },
  {
   "cell_type": "code",
   "execution_count": 0,
   "metadata": {
    "application/vnd.databricks.v1+cell": {
     "cellMetadata": {
      "byteLimit": 2048000,
      "implicitDf": true,
      "rowLimit": 10000
     },
     "inputWidgets": {},
     "nuid": "2babc647-f1dd-49a4-be0d-fb221ba66320",
     "showTitle": false,
     "tableResultSettingsMap": {},
     "title": ""
    }
   },
   "outputs": [
    {
     "output_type": "display_data",
     "data": {
      "text/html": [
       "<style scoped>\n",
       "  .table-result-container {\n",
       "    max-height: 300px;\n",
       "    overflow: auto;\n",
       "  }\n",
       "  table, th, td {\n",
       "    border: 1px solid black;\n",
       "    border-collapse: collapse;\n",
       "  }\n",
       "  th, td {\n",
       "    padding: 5px;\n",
       "  }\n",
       "  th {\n",
       "    text-align: left;\n",
       "  }\n",
       "</style><div class='table-result-container'><table class='table-result'><thead style='background-color: white'><tr><th>user_id</th><th>txn_date</th><th>amount</th><th>running_balance</th></tr></thead><tbody><tr><td>1</td><td>2025-01-01</td><td>500</td><td>500</td></tr><tr><td>1</td><td>2025-01-03</td><td>-200</td><td>300</td></tr><tr><td>1</td><td>2025-01-05</td><td>300</td><td>600</td></tr><tr><td>2</td><td>2025-01-02</td><td>1000</td><td>1000</td></tr><tr><td>2</td><td>2025-01-04</td><td>-400</td><td>600</td></tr></tbody></table></div>"
      ]
     },
     "metadata": {
      "application/vnd.databricks.v1+output": {
       "addedWidgets": {},
       "aggData": [],
       "aggError": "",
       "aggOverflow": false,
       "aggSchema": [],
       "aggSeriesLimitReached": false,
       "aggType": "",
       "arguments": {},
       "columnCustomDisplayInfos": {},
       "data": [
        [
         1,
         "2025-01-01",
         500,
         500
        ],
        [
         1,
         "2025-01-03",
         -200,
         300
        ],
        [
         1,
         "2025-01-05",
         300,
         600
        ],
        [
         2,
         "2025-01-02",
         1000,
         1000
        ],
        [
         2,
         "2025-01-04",
         -400,
         600
        ]
       ],
       "datasetInfos": [],
       "dbfsResultPath": null,
       "isJsonSchema": true,
       "metadata": {},
       "overflow": false,
       "plotOptions": {
        "customPlotOptions": {},
        "displayType": "table",
        "pivotAggregation": null,
        "pivotColumns": null,
        "xColumns": null,
        "yColumns": null
       },
       "removedWidgets": [],
       "schema": [
        {
         "metadata": "{}",
         "name": "user_id",
         "type": "\"long\""
        },
        {
         "metadata": "{}",
         "name": "txn_date",
         "type": "\"date\""
        },
        {
         "metadata": "{}",
         "name": "amount",
         "type": "\"long\""
        },
        {
         "metadata": "{}",
         "name": "running_balance",
         "type": "\"long\""
        }
       ],
       "type": "table"
      }
     },
     "output_type": "display_data"
    }
   ],
   "source": [
    "%sql\n",
    "select \n",
    "    user_id,\n",
    "    txn_date,\n",
    "    amount,\n",
    "    sum(amount) over (\n",
    "        partition by user_id \n",
    "        order by txn_date \n",
    "        rows between unbounded preceding and current row\n",
    "    ) as running_balance\n",
    "from transactions;"
   ]
  }
 ],
 "metadata": {
  "application/vnd.databricks.v1+notebook": {
   "computePreferences": null,
   "dashboards": [],
   "environmentMetadata": {
    "base_environment": "",
    "environment_version": "1"
   },
   "inputWidgetPreferences": null,
   "language": "python",
   "notebookMetadata": {
    "mostRecentlyExecutedCommandWithImplicitDF": {
     "commandId": 2759180062096013,
     "dataframes": [
      "_sqldf"
     ]
    },
    "pythonIndentUnit": 4
   },
   "notebookName": "day-2 DE_daily_problems",
   "widgets": {}
  }
 },
 "nbformat": 4,
 "nbformat_minor": 0
}