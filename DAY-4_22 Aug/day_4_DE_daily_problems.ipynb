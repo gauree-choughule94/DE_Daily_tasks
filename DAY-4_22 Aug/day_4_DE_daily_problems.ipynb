{
  "nbformat": 4,
  "nbformat_minor": 0,
  "metadata": {
    "colab": {
      "provenance": []
    },
    "kernelspec": {
      "name": "python3",
      "display_name": "Python 3"
    },
    "language_info": {
      "name": "python"
    }
  },
  "cells": [
    {
      "cell_type": "code",
      "execution_count": 10,
      "metadata": {
        "colab": {
          "base_uri": "https://localhost:8080/"
        },
        "id": "k9fmUxpuyI4x",
        "outputId": "6b524578-f8f2-446f-b4cb-9b31b792044a"
      },
      "outputs": [
        {
          "output_type": "stream",
          "name": "stdout",
          "text": [
            "+----------+------+------+-----------------+\n",
            "|  txn_date|txn_id|amount|       avg_amount|\n",
            "+----------+------+------+-----------------+\n",
            "|2025-01-01|    T1|   100|266.6666666666667|\n",
            "|2025-01-01|    T2|   200|266.6666666666667|\n",
            "|2025-01-01|    T3|   500|266.6666666666667|\n",
            "|2025-01-02|    T4|   300|433.3333333333333|\n",
            "|2025-01-02|    T5|   400|433.3333333333333|\n",
            "|2025-01-02|    T6|   600|433.3333333333333|\n",
            "+----------+------+------+-----------------+\n",
            "\n",
            "+----------+------+------+\n",
            "|  txn_date|txn_id|amount|\n",
            "+----------+------+------+\n",
            "|2025-01-01|    T3|   500|\n",
            "|2025-01-02|    T6|   600|\n",
            "+----------+------+------+\n",
            "\n"
          ]
        }
      ],
      "source": [
        "from pyspark.sql import SparkSession\n",
        "from pyspark.sql.types import *\n",
        "from pyspark.sql.functions import *\n",
        "\n",
        "spark = SparkSession.builder.appName(\"TransactionsDF\").getOrCreate()\n",
        "\n",
        "schema = StructType([\n",
        "    StructField(\"txn_date\", StringType(), True),\n",
        "    StructField(\"txn_id\", StringType(), True),\n",
        "    StructField(\"amount\", IntegerType(), True)\n",
        "])\n",
        "\n",
        "data = [\n",
        "    (\"2025-01-01\", \"T1\", 100),\n",
        "    (\"2025-01-01\", \"T2\", 200),\n",
        "    (\"2025-01-01\", \"T3\", 500),\n",
        "    (\"2025-01-02\", \"T4\", 300),\n",
        "    (\"2025-01-02\", \"T5\", 400),\n",
        "    (\"2025-01-02\", \"T6\", 600),\n",
        "]\n",
        "\n",
        "df = spark.createDataFrame(data, schema)\n",
        "\n",
        "# df.show()\n",
        "df_avg = df.groupBy(\"txn_date\").agg(avg(\"amount\").alias(\"avg_amount\"))\n",
        "\n",
        "# df1 = df.join(df_avg, df['txn_date']==df_avg['txn_date'], 'left') #ambiguous error\n",
        "df1 = df.join(df_avg, on=\"txn_date\", how=\"left\")\n",
        "df1.show()\n",
        "\n",
        "df_re = df1.filter(col('amount') > col('avg_amount')).select('txn_date', 'txn_id','amount')\n",
        "df_re.show()"
      ]
    },
    {
      "cell_type": "code",
      "source": [
        "schema = StructType([\n",
        "    StructField(\"emp_id\", IntegerType(), True),\n",
        "    StructField(\"manager_id\", IntegerType(), True),\n",
        "    StructField(\"change_date\", StringType(), True)\n",
        "])\n",
        "\n",
        "# Sample data\n",
        "data = [\n",
        "    (1, 10, \"2025-01-01\"),\n",
        "    (1, 10, \"2025-02-01\"),\n",
        "    (2, 11, \"2025-01-01\"),\n",
        "    (2, 12, \"2025-03-01\"),\n",
        "    (3, 13, \"2025-01-05\")\n",
        "]\n",
        "\n",
        "# Create DataFrame\n",
        "df_em = spark.createDataFrame(data, schema)\n",
        "\n",
        "# Show DataFrame\n",
        "df_em.show()\n",
        "\n",
        "df_em.createOrReplaceTempView('employee_manager')\n",
        "\n",
        "result = spark.sql(\"\"\"select emp_id\n",
        "from employee_manager\n",
        "group by emp_id\n",
        "having count(distinct manager_id) = 1 \"\"\")\n",
        "result.show()"
      ],
      "metadata": {
        "colab": {
          "base_uri": "https://localhost:8080/"
        },
        "id": "IIunUOGQ1zw-",
        "outputId": "59a08ce0-de1b-4092-fe24-840dc7fca21c"
      },
      "execution_count": 17,
      "outputs": [
        {
          "output_type": "stream",
          "name": "stdout",
          "text": [
            "+------+----------+-----------+\n",
            "|emp_id|manager_id|change_date|\n",
            "+------+----------+-----------+\n",
            "|     1|        10| 2025-01-01|\n",
            "|     1|        10| 2025-02-01|\n",
            "|     2|        11| 2025-01-01|\n",
            "|     2|        12| 2025-03-01|\n",
            "|     3|        13| 2025-01-05|\n",
            "+------+----------+-----------+\n",
            "\n",
            "+------+\n",
            "|emp_id|\n",
            "+------+\n",
            "|     1|\n",
            "|     3|\n",
            "+------+\n",
            "\n"
          ]
        }
      ]
    },
    {
      "cell_type": "code",
      "source": [],
      "metadata": {
        "id": "LgvPmGWC3coE"
      },
      "execution_count": null,
      "outputs": []
    }
  ]
}