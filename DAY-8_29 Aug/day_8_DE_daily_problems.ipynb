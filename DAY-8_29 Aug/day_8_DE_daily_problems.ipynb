{
  "nbformat": 4,
  "nbformat_minor": 0,
  "metadata": {
    "colab": {
      "provenance": []
    },
    "kernelspec": {
      "name": "python3",
      "display_name": "Python 3"
    },
    "language_info": {
      "name": "python"
    }
  },
  "cells": [
    {
      "cell_type": "code",
      "source": [
        "from pyspark.sql import SparkSession\n",
        "from pyspark.sql.window import Window\n",
        "from pyspark.sql.functions import *\n",
        "from pyspark.sql.types import *\n",
        "\n",
        "spark = SparkSession.builder.appName(\"UserSessions\").getOrCreate()\n",
        "\n",
        "data = [\n",
        "    (\"2025-01-01\", 100),\n",
        "    (\"2025-01-02\", 200),\n",
        "    (\"2025-01-03\", 300),\n",
        "    (\"2025-01-04\", 400),\n",
        "    (\"2025-01-05\", 500)\n",
        "]\n",
        "\n",
        "columns = [\"sale_date\", \"sales\"]\n",
        "\n",
        "df = spark.createDataFrame(data, columns)\n",
        "df.show()\n",
        "\n",
        "# previous 2 rows + current row (3-day window)\n",
        "w = Window.orderBy(\"sale_date\").rowsBetween(-2, 0)\n",
        "df1 = df.withColumn('rolling_3_day_avg', round(avg('sales').over(w), 0).cast('int'))  # .cast('int') to avoid 100.0....\n",
        "df1.show()"
      ],
      "metadata": {
        "colab": {
          "base_uri": "https://localhost:8080/"
        },
        "id": "xZ6waQrH6YzD",
        "outputId": "feb29dc8-9fcc-4f6c-e21f-8a7c738f40b7"
      },
      "execution_count": 5,
      "outputs": [
        {
          "output_type": "stream",
          "name": "stdout",
          "text": [
            "+----------+-----+\n",
            "| sale_date|sales|\n",
            "+----------+-----+\n",
            "|2025-01-01|  100|\n",
            "|2025-01-02|  200|\n",
            "|2025-01-03|  300|\n",
            "|2025-01-04|  400|\n",
            "|2025-01-05|  500|\n",
            "+----------+-----+\n",
            "\n",
            "+----------+-----+-----------------+\n",
            "| sale_date|sales|rolling_3_day_avg|\n",
            "+----------+-----+-----------------+\n",
            "|2025-01-01|  100|              100|\n",
            "|2025-01-02|  200|              150|\n",
            "|2025-01-03|  300|              200|\n",
            "|2025-01-04|  400|              300|\n",
            "|2025-01-05|  500|              400|\n",
            "+----------+-----+-----------------+\n",
            "\n"
          ]
        }
      ]
    },
    {
      "cell_type": "code",
      "source": [
        "from pyspark.sql import SparkSession\n",
        "from pyspark.sql.window import Window\n",
        "from pyspark.sql.functions import *\n",
        "from pyspark.sql.types import *\n",
        "\n",
        "spark = SparkSession.builder.appName(\"CustomerPurchases\").getOrCreate()\n",
        "\n",
        "data = [\n",
        "    (\"C1\", \"2025-01-01\", 100),\n",
        "    (\"C1\", \"2025-01-05\", 200),\n",
        "    (\"C1\", \"2025-01-10\", 300),\n",
        "    (\"C2\", \"2025-01-02\", 150),\n",
        "    (\"C2\", \"2025-01-06\", 120),\n",
        "    (\"C3\", \"2025-01-03\", 200),\n",
        "    (\"C3\", \"2025-01-09\", 250),\n",
        "]\n",
        "\n",
        "columns = [\"customer_id\", \"purchase_date\", \"amount\"]\n",
        "\n",
        "df_c = spark.createDataFrame(data, columns)\n",
        "df_c = df_c.withColumn(\"purchase_date\", to_date(\"purchase_date\"))\n",
        "# df_c.show()\n",
        "win1 = Window.partitionBy('customer_id').orderBy('purchase_date')\n",
        "\n",
        "df1 = df_c.withColumn(\"lag1\", lag('amount').over(win1))\n",
        "df1.show()\n",
        "df2 = df1.filter(col('lag1').isNotNull() & (col('lag1')<=col('amount')))\n",
        "df2.show()\n",
        "df3 = df2.select('customer_id').distinct()\n",
        "df3.show()"
      ],
      "metadata": {
        "id": "TNwY9McRDMAN",
        "colab": {
          "base_uri": "https://localhost:8080/"
        },
        "outputId": "131b6625-e018-4687-9eac-69ba748174b0"
      },
      "execution_count": 7,
      "outputs": [
        {
          "output_type": "stream",
          "name": "stdout",
          "text": [
            "+-----------+-------------+------+----+\n",
            "|customer_id|purchase_date|amount|lag1|\n",
            "+-----------+-------------+------+----+\n",
            "|         C1|   2025-01-01|   100|NULL|\n",
            "|         C1|   2025-01-05|   200| 100|\n",
            "|         C1|   2025-01-10|   300| 200|\n",
            "|         C2|   2025-01-02|   150|NULL|\n",
            "|         C2|   2025-01-06|   120| 150|\n",
            "|         C3|   2025-01-03|   200|NULL|\n",
            "|         C3|   2025-01-09|   250| 200|\n",
            "+-----------+-------------+------+----+\n",
            "\n",
            "+-----------+-------------+------+----+\n",
            "|customer_id|purchase_date|amount|lag1|\n",
            "+-----------+-------------+------+----+\n",
            "|         C1|   2025-01-05|   200| 100|\n",
            "|         C1|   2025-01-10|   300| 200|\n",
            "|         C3|   2025-01-09|   250| 200|\n",
            "+-----------+-------------+------+----+\n",
            "\n",
            "+-----------+\n",
            "|customer_id|\n",
            "+-----------+\n",
            "|         C1|\n",
            "|         C3|\n",
            "+-----------+\n",
            "\n"
          ]
        }
      ]
    },
    {
      "cell_type": "code",
      "source": [
        "df_c.createOrReplaceTempView('customer_table')\n",
        "result = spark.sql(\"\"\"\n",
        "WITH with_lag AS (\n",
        "    SELECT\n",
        "        customer_id,\n",
        "        purchase_date,\n",
        "        amount,\n",
        "        LAG(amount) OVER (PARTITION BY customer_id ORDER BY purchase_date) AS lag1\n",
        "    FROM customer_table\n",
        "),\n",
        "violations AS (\n",
        "    SELECT customer_id\n",
        "    FROM with_lag\n",
        "    WHERE lag1 IS NOT NULL AND amount <= lag1\n",
        ")\n",
        "SELECT DISTINCT customer_id\n",
        "FROM customer_table\n",
        "WHERE customer_id NOT IN (SELECT customer_id FROM violations)\n",
        "\"\"\")\n",
        "result.show()"
      ],
      "metadata": {
        "colab": {
          "base_uri": "https://localhost:8080/"
        },
        "id": "qaIqTJbqB_vb",
        "outputId": "c6252eb7-62b2-48ac-ad18-01173fdb0a86"
      },
      "execution_count": 11,
      "outputs": [
        {
          "output_type": "stream",
          "name": "stdout",
          "text": [
            "+-----------+\n",
            "|customer_id|\n",
            "+-----------+\n",
            "|         C1|\n",
            "|         C3|\n",
            "+-----------+\n",
            "\n"
          ]
        }
      ]
    },
    {
      "cell_type": "code",
      "source": [],
      "metadata": {
        "id": "WpZdK05GCO69"
      },
      "execution_count": null,
      "outputs": []
    }
  ]
}