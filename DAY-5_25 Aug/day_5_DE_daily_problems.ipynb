{
  "nbformat": 4,
  "nbformat_minor": 0,
  "metadata": {
    "colab": {
      "provenance": []
    },
    "kernelspec": {
      "name": "python3",
      "display_name": "Python 3"
    },
    "language_info": {
      "name": "python"
    }
  },
  "cells": [
    {
      "cell_type": "code",
      "execution_count": 39,
      "metadata": {
        "colab": {
          "base_uri": "https://localhost:8080/"
        },
        "id": "k9fmUxpuyI4x",
        "outputId": "2127d060-83b1-41f8-d9e8-fb55174aaad2"
      },
      "outputs": [
        {
          "output_type": "stream",
          "name": "stdout",
          "text": [
            "+-------+-----+\n",
            "|product|sales|\n",
            "+-------+-----+\n",
            "| Laptop| 1200|\n",
            "|  Phone|  800|\n",
            "| Tablet|  500|\n",
            "|Desktop|  500|\n",
            "+-------+-----+\n",
            "\n",
            "+-----------+\n",
            "|total_sales|\n",
            "+-----------+\n",
            "|       3000|\n",
            "+-----------+\n",
            "\n",
            "+-------+-----+-----------------------+\n",
            "|product|sales|percentage_contribution|\n",
            "+-------+-----+-----------------------+\n",
            "| Laptop| 1200|                   40.0|\n",
            "|  Phone|  800|                   26.7|\n",
            "| Tablet|  500|                   16.7|\n",
            "|Desktop|  500|                   16.7|\n",
            "+-------+-----+-----------------------+\n",
            "\n"
          ]
        }
      ],
      "source": [
        "from pyspark.sql import SparkSession\n",
        "from pyspark.sql.types import *\n",
        "from pyspark.sql.functions import *\n",
        "\n",
        "spark = SparkSession.builder.appName(\"TransactionsDF\").getOrCreate()\n",
        "\n",
        "schema = StructType([\n",
        "    StructField(\"product\", StringType(), True),\n",
        "    StructField(\"sales\", IntegerType(), True)\n",
        "])\n",
        "\n",
        "data = [\n",
        "    (\"Laptop\", 1200),\n",
        "    (\"Phone\", 800),\n",
        "    (\"Tablet\", 500),\n",
        "    (\"Desktop\", 500)\n",
        "]\n",
        "\n",
        "df_sales = spark.createDataFrame(data, schema)\n",
        "\n",
        "df_sales.show()\n",
        "total_sales = df_sales.agg(sum('sales').alias(\"total_sales\"))\n",
        "total_sales.show()\n",
        "total_sales = df_sales.agg(sum('sales').alias(\"total_sales\")).collect()[0]['total_sales'] # 0= first row,\n",
        "\n",
        "df_sales = df_sales.withColumn('percentage_contribution', round((col('sales')/total_sales)*100, 1))\n",
        "df_sales.show()"
      ]
    },
    {
      "cell_type": "code",
      "source": [
        "schema = StructType([\n",
        "    StructField(\"txn_id\", StringType(), True),\n",
        "    StructField(\"txn_date\", StringType(), True),\n",
        "    StructField(\"amount\", IntegerType(), True)\n",
        "])\n",
        "\n",
        "data = [\n",
        "    (\"T1\", \"2025-01-10\", 100),\n",
        "    (\"T2\", \"2025-01-15\", 200),\n",
        "    (\"T3\", \"2025-03-05\", 300),\n",
        "    (\"T4\", \"2025-05-20\", 400)\n",
        "]\n",
        "\n",
        "df_txn = spark.createDataFrame(data, schema)\n",
        "df_txn = df_txn.withColumn(\"txn_date\", to_date(\"txn_date\", \"yyyy-MM-dd\"))\n",
        "# df_txn.show()\n",
        "txn_months = df_txn.select(date_format(\"txn_date\", \"yyyy-MM\").alias('month')).distinct()\n",
        "txn_months.show()\n",
        "\n",
        "months = [\"2025-01\",\"2025-02\",\"2025-03\",\"2025-04\",\"2025-05\",\"2025-06\",\n",
        "          \"2025-07\",\"2025-08\",\"2025-09\",\"2025-10\",\"2025-11\",\"2025-12\"]\n",
        "\n",
        "all_months = spark.createDataFrame([(m,) for m in months], [\"month\"])\n",
        "# all_months.show()\n",
        "\n",
        "df1 = all_months.join(txn_months, on=\"month\", how=\"left_anti\").orderBy('month')\n",
        "df1.show()"
      ],
      "metadata": {
        "colab": {
          "base_uri": "https://localhost:8080/"
        },
        "id": "2jmIzlTP9ZMk",
        "outputId": "b5374955-cc07-4355-a66b-31aa830a5142"
      },
      "execution_count": 30,
      "outputs": [
        {
          "output_type": "stream",
          "name": "stdout",
          "text": [
            "+-------+\n",
            "|  month|\n",
            "+-------+\n",
            "|2025-01|\n",
            "|2025-03|\n",
            "|2025-05|\n",
            "+-------+\n",
            "\n",
            "+-------+\n",
            "|  month|\n",
            "+-------+\n",
            "|2025-02|\n",
            "|2025-04|\n",
            "|2025-06|\n",
            "|2025-07|\n",
            "|2025-08|\n",
            "|2025-09|\n",
            "|2025-10|\n",
            "|2025-11|\n",
            "|2025-12|\n",
            "+-------+\n",
            "\n"
          ]
        }
      ]
    },
    {
      "cell_type": "code",
      "source": [
        "df_txn.createOrReplaceTempView(\"transactions\")\n",
        "\n",
        "spark.sql(\"\"\"\n",
        "create or replace temp view all_months as\n",
        "select stack(12,\n",
        "  '2025-01', '2025-02', '2025-03', '2025-04',\n",
        "  '2025-05', '2025-06', '2025-07', '2025-08',\n",
        "  '2025-09', '2025-10', '2025-11', '2025-12'\n",
        ") as month\n",
        "\"\"\")\n",
        "\n",
        "missing_months = spark.sql(\"\"\"\n",
        "select m.month\n",
        "from all_months m\n",
        "left join (\n",
        "    select distinct date_format(txn_date, 'yyyy-mm') as month\n",
        "    from transactions\n",
        ") t\n",
        "on m.month = t.month\n",
        "where t.month is null\n",
        "order by m.month\n",
        "\"\"\")\n",
        "\n",
        "missing_months.show()"
      ],
      "metadata": {
        "colab": {
          "base_uri": "https://localhost:8080/"
        },
        "id": "LgvPmGWC3coE",
        "outputId": "a9715190-2249-404f-e1e3-3335fdc3e564"
      },
      "execution_count": 40,
      "outputs": [
        {
          "output_type": "stream",
          "name": "stdout",
          "text": [
            "+-------+\n",
            "|  month|\n",
            "+-------+\n",
            "|2025-01|\n",
            "|2025-02|\n",
            "|2025-03|\n",
            "|2025-04|\n",
            "|2025-05|\n",
            "|2025-06|\n",
            "|2025-07|\n",
            "|2025-08|\n",
            "|2025-09|\n",
            "|2025-10|\n",
            "|2025-11|\n",
            "|2025-12|\n",
            "+-------+\n",
            "\n"
          ]
        }
      ]
    }
  ]
}