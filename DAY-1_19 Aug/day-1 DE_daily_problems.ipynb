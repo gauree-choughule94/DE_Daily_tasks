{
 "cells": [
  {
   "cell_type": "code",
   "execution_count": 0,
   "metadata": {
    "application/vnd.databricks.v1+cell": {
     "cellMetadata": {
      "byteLimit": 2048000,
      "rowLimit": 10000
     },
     "inputWidgets": {},
     "nuid": "f29b7b1b-b74d-4de6-a599-48f5260a15fa",
     "showTitle": false,
     "tableResultSettingsMap": {},
     "title": ""
    }
   },
   "outputs": [
    {
     "output_type": "stream",
     "name": "stdout",
     "output_type": "stream",
     "text": [
      "+----------+-----+----------+\n|      date|sales| prev_date|\n+----------+-----+----------+\n|2025-01-01|  100|      null|\n|2025-01-02|  150|2025-01-01|\n|2025-01-04|  120|2025-01-02|\n|2025-01-06|  200|2025-01-04|\n+----------+-----+----------+\n\n+----------+-----+----------+\n|      date|sales| prev_date|\n+----------+-----+----------+\n|2025-01-04|  120|2025-01-02|\n|2025-01-06|  200|2025-01-04|\n+----------+-----+----------+\n\n+----------------------+\n|date_add(prev_date, 1)|\n+----------------------+\n|            2025-01-03|\n|            2025-01-05|\n+----------------------+\n\n"
     ]
    }
   ],
   "source": [
    "from pyspark.sql.functions import *\n",
    "from pyspark.sql.types import *\n",
    "from pyspark.sql.window import Window\n",
    "\n",
    "data = [(\"2025-01-01\", 100),\n",
    "        (\"2025-01-02\", 150),\n",
    "        (\"2025-01-04\", 120),\n",
    "        (\"2025-01-06\", 200)]\n",
    "\n",
    "schema = ['date', 'sales']\n",
    "\n",
    "df = spark.createDataFrame(data, schema)\n",
    "# df.show()\n",
    "\n",
    "win1 = Window.orderBy('date')\n",
    "\n",
    "lag_df = df.withColumn('prev_date', lag('date').over(win1))\n",
    "lag_df.show()\n",
    "\n",
    "is_diff_df = lag_df.filter((col('prev_date').isNotNull()) & (col('date') > date_add(col('prev_date'), 1)))\n",
    "is_diff_df.show()\n",
    "\n",
    "missing_dates = is_diff_df.select(\n",
    "    date_add(col('prev_date'), 1) \n",
    ")\n",
    "\n",
    "missing_dates.show()"
   ]
  },
  {
   "cell_type": "code",
   "execution_count": 0,
   "metadata": {
    "application/vnd.databricks.v1+cell": {
     "cellMetadata": {
      "byteLimit": 2048000,
      "rowLimit": 10000
     },
     "inputWidgets": {},
     "nuid": "45091bd2-8ea8-4ac2-bfe3-dce9ff544423",
     "showTitle": false,
     "tableResultSettingsMap": {},
     "title": ""
    }
   },
   "outputs": [
    {
     "output_type": "stream",
     "name": "stdout",
     "output_type": "stream",
     "text": [
      "+-------+----------+---+----------+\n|user_id|login_date| rn|       grp|\n+-------+----------+---+----------+\n|      1|2025-01-01|  1|2024-12-31|\n|      1|2025-01-02|  2|2024-12-31|\n|      1|2025-01-04|  3|2025-01-01|\n|      2|2025-01-01|  1|2024-12-31|\n|      2|2025-01-02|  2|2024-12-31|\n|      2|2025-01-03|  3|2024-12-31|\n|      2|2025-01-05|  4|2025-01-01|\n+-------+----------+---+----------+\n\n+-------+----------+----------+\n|user_id|       grp|streak_len|\n+-------+----------+----------+\n|      1|2024-12-31|         2|\n|      1|2025-01-01|         1|\n|      2|2024-12-31|         3|\n|      2|2025-01-01|         1|\n+-------+----------+----------+\n\n+-------+--------------+\n|user_id|longest_streak|\n+-------+--------------+\n|      1|             2|\n|      2|             3|\n+-------+--------------+\n\n"
     ]
    }
   ],
   "source": [
    "data = [\n",
    "    (1, \"2025-01-01\"),\n",
    "    (1, \"2025-01-02\"),\n",
    "    (1, \"2025-01-04\"),\n",
    "    (2, \"2025-01-01\"),\n",
    "    (2, \"2025-01-02\"),\n",
    "    (2, \"2025-01-03\"),\n",
    "    (2, \"2025-01-05\"),\n",
    "]\n",
    "\n",
    "df1 = spark.createDataFrame(data, [\"user_id\", \"login_date\"]) \\\n",
    "          .withColumn(\"login_date\", to_date(\"login_date\"))\n",
    "\n",
    "# df1.show()\n",
    "\n",
    "window = Window.partitionBy(\"user_id\").orderBy(\"login_date\")\n",
    "df_rn = df1.withColumn(\"rn\", row_number().over(window))\n",
    "# df_rn.show()\n",
    "\n",
    "# Create group key (date - rn) => Consecutive dates align into the same group because the difference between login_date and rn is constant in a streak.\n",
    "df_grp = df_rn.withColumn(\"grp\", expr(\"date_sub(login_date, rn)\"))\n",
    "df_grp.show()\n",
    "# Count streak length per group\n",
    "streaks = df_grp.groupBy(\"user_id\", \"grp\").agg(count(\"*\").alias(\"streak_len\"))\n",
    "streaks.show()\n",
    "# Find longest streak per user\n",
    "result = streaks.groupBy(\"user_id\").agg(max(\"streak_len\").alias(\"longest_streak\"))\n",
    "\n",
    "result.show()"
   ]
  },
  {
   "cell_type": "code",
   "execution_count": 0,
   "metadata": {
    "application/vnd.databricks.v1+cell": {
     "cellMetadata": {
      "byteLimit": 2048000,
      "rowLimit": 10000
     },
     "inputWidgets": {},
     "nuid": "e688bb7d-415e-4efe-a561-0e4cba3a39d2",
     "showTitle": false,
     "tableResultSettingsMap": {},
     "title": ""
    }
   },
   "outputs": [],
   "source": [
    "df1.createOrReplaceTempView(\"user_logins\")"
   ]
  },
  {
   "cell_type": "code",
   "execution_count": 0,
   "metadata": {
    "application/vnd.databricks.v1+cell": {
     "cellMetadata": {
      "byteLimit": 2048000,
      "implicitDf": true,
      "rowLimit": 10000
     },
     "inputWidgets": {},
     "nuid": "dc8db190-2155-40a2-ae7a-894d2b937f21",
     "showTitle": false,
     "tableResultSettingsMap": {},
     "title": ""
    }
   },
   "outputs": [
    {
     "output_type": "display_data",
     "data": {
      "text/html": [
       "<style scoped>\n",
       "  .table-result-container {\n",
       "    max-height: 300px;\n",
       "    overflow: auto;\n",
       "  }\n",
       "  table, th, td {\n",
       "    border: 1px solid black;\n",
       "    border-collapse: collapse;\n",
       "  }\n",
       "  th, td {\n",
       "    padding: 5px;\n",
       "  }\n",
       "  th {\n",
       "    text-align: left;\n",
       "  }\n",
       "</style><div class='table-result-container'><table class='table-result'><thead style='background-color: white'><tr><th>user_id</th><th>login_date</th><th>rn</th><th>grp</th></tr></thead><tbody><tr><td>1</td><td>2025-01-01</td><td>1</td><td>2024-12-31</td></tr><tr><td>1</td><td>2025-01-02</td><td>2</td><td>2024-12-31</td></tr><tr><td>1</td><td>2025-01-04</td><td>3</td><td>2025-01-01</td></tr><tr><td>2</td><td>2025-01-01</td><td>1</td><td>2024-12-31</td></tr><tr><td>2</td><td>2025-01-02</td><td>2</td><td>2024-12-31</td></tr><tr><td>2</td><td>2025-01-03</td><td>3</td><td>2024-12-31</td></tr><tr><td>2</td><td>2025-01-05</td><td>4</td><td>2025-01-01</td></tr></tbody></table></div>"
      ]
     },
     "metadata": {
      "application/vnd.databricks.v1+output": {
       "addedWidgets": {},
       "aggData": [],
       "aggError": "",
       "aggOverflow": false,
       "aggSchema": [],
       "aggSeriesLimitReached": false,
       "aggType": "",
       "arguments": {},
       "columnCustomDisplayInfos": {},
       "data": [
        [
         1,
         "2025-01-01",
         1,
         "2024-12-31"
        ],
        [
         1,
         "2025-01-02",
         2,
         "2024-12-31"
        ],
        [
         1,
         "2025-01-04",
         3,
         "2025-01-01"
        ],
        [
         2,
         "2025-01-01",
         1,
         "2024-12-31"
        ],
        [
         2,
         "2025-01-02",
         2,
         "2024-12-31"
        ],
        [
         2,
         "2025-01-03",
         3,
         "2024-12-31"
        ],
        [
         2,
         "2025-01-05",
         4,
         "2025-01-01"
        ]
       ],
       "datasetInfos": [],
       "dbfsResultPath": null,
       "isJsonSchema": true,
       "metadata": {},
       "overflow": false,
       "plotOptions": {
        "customPlotOptions": {},
        "displayType": "table",
        "pivotAggregation": null,
        "pivotColumns": null,
        "xColumns": null,
        "yColumns": null
       },
       "removedWidgets": [],
       "schema": [
        {
         "metadata": "{}",
         "name": "user_id",
         "type": "\"long\""
        },
        {
         "metadata": "{}",
         "name": "login_date",
         "type": "\"date\""
        },
        {
         "metadata": "{}",
         "name": "rn",
         "type": "\"integer\""
        },
        {
         "metadata": "{}",
         "name": "grp",
         "type": "\"date\""
        }
       ],
       "type": "table"
      }
     },
     "output_type": "display_data"
    }
   ],
   "source": [
    "%sql\n",
    "SELECT * FROM user_logins;"
   ]
  },
  {
   "cell_type": "code",
   "execution_count": 0,
   "metadata": {
    "application/vnd.databricks.v1+cell": {
     "cellMetadata": {},
     "inputWidgets": {},
     "nuid": "f6c5af11-c52c-495f-9516-78a031da8a67",
     "showTitle": false,
     "tableResultSettingsMap": {},
     "title": ""
    }
   },
   "outputs": [],
   "source": []
  },
  {
   "cell_type": "code",
   "execution_count": 0,
   "metadata": {
    "application/vnd.databricks.v1+cell": {
     "cellMetadata": {},
     "inputWidgets": {},
     "nuid": "9f756ce5-1fa2-42e6-af09-1fdfec3a3b15",
     "showTitle": false,
     "tableResultSettingsMap": {},
     "title": ""
    }
   },
   "outputs": [],
   "source": []
  }
 ],
 "metadata": {
  "application/vnd.databricks.v1+notebook": {
   "computePreferences": null,
   "dashboards": [],
   "environmentMetadata": {
    "base_environment": "",
    "environment_version": "1"
   },
   "inputWidgetPreferences": null,
   "language": "python",
   "notebookMetadata": {
    "mostRecentlyExecutedCommandWithImplicitDF": {
     "commandId": 2759180062096010,
     "dataframes": [
      "_sqldf"
     ]
    },
    "pythonIndentUnit": 4
   },
   "notebookName": "day-1 DE_daily_problems",
   "widgets": {}
  }
 },
 "nbformat": 4,
 "nbformat_minor": 0
}